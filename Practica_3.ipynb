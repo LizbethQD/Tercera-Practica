{
  "nbformat": 4,
  "nbformat_minor": 0,
  "metadata": {
    "colab": {
      "name": "Practica #3.ipynb",
      "provenance": [],
      "collapsed_sections": []
    },
    "kernelspec": {
      "name": "python3",
      "display_name": "Python 3"
    },
    "language_info": {
      "name": "python"
    }
  },
  "cells": [
    {
      "cell_type": "markdown",
      "source": [
        "**COMPLEJIDAD ALGORITMICA**\n",
        "\n",
        "**NOMBRE:** Lizbeth Quezada\n",
        "\n",
        "**CICLO:** 4 Paralelo B\n",
        "\n",
        "**ING. :** Luis Chamba"
      ],
      "metadata": {
        "id": "BltJ97qzDUom"
      }
    },
    {
      "cell_type": "markdown",
      "source": [
        "**Reto 1**\n",
        "\n",
        "**Definir dos funciones para calcular la suma del 1 a n numeros**\n",
        "\n"
      ],
      "metadata": {
        "id": "LZuNh60MDdRp"
      }
    },
    {
      "cell_type": "code",
      "source": [
        "import time\n",
        "\n",
        "def suma_lineal(n):\n",
        "  pass\n",
        "\n",
        "def suma_constante(n):\n",
        "  pass\n",
        "\n",
        "cantidad = 1000000\n",
        "\n",
        "for i in range(4):\n",
        "  t0 = time.time()\n",
        "\n",
        "  suma1 = suma_lineal(cantidad)\n",
        "\n",
        "  t1 = time.time()\n",
        "\n",
        "  suma2 = suma_constante(cantidad)\n",
        "\n",
        "  t2 = time.time()\n",
        "\n",
        "  print(\"{} - {}\".format(suma1, t1-t0))\n",
        "  print(\"{} - {}\".format(suma2, t2-t1))\n",
        "\n",
        "  cantidad *= 10\n"
      ],
      "metadata": {
        "colab": {
          "base_uri": "https://localhost:8080/"
        },
        "id": "8wuV8XZe_5qj",
        "outputId": "b910adfa-1788-4bce-cacc-9d7cbce17b40"
      },
      "execution_count": 4,
      "outputs": [
        {
          "output_type": "stream",
          "name": "stdout",
          "text": [
            "None - 7.152557373046875e-07\n",
            "None - 2.384185791015625e-07\n",
            "None - 9.5367431640625e-07\n",
            "None - 1.430511474609375e-06\n",
            "None - 1.6689300537109375e-06\n",
            "None - 9.5367431640625e-07\n",
            "None - 9.5367431640625e-07\n",
            "None - 1.430511474609375e-06\n"
          ]
        }
      ]
    },
    {
      "cell_type": "markdown",
      "source": [
        "Reto 2\n",
        "\n",
        "**Aplicando la formula de la suma aritmetica de Gauss**\n",
        "\n"
      ],
      "metadata": {
        "id": "NbZ5UGOvCS-B"
      }
    },
    {
      "cell_type": "code",
      "source": [
        "import time\n",
        "\n",
        "def suma_lineal(n):\n",
        "  suma = 0\n",
        "  for i in range(1, n+1):\n",
        "    suma += i\n",
        "    return suma\n",
        "\n",
        "\n",
        "def suma_constante(n):\n",
        "  return (n / 2) * (n + 1)\n",
        "\n",
        "cantidad = 1000000\n",
        "\n",
        "for i in range(4):\n",
        "  t0 = time.time()\n",
        "\n",
        "  suma1 = suma_lineal(cantidad)\n",
        "\n",
        "  t1 = time.time()\n",
        "\n",
        "  suma2 = suma_constante(cantidad)\n",
        "\n",
        "  t2 = time.time()\n",
        "\n",
        "  print(\"{}  -  {}\".format(suma1, t1-t0))\n",
        "  print(\"{}  -  {}\".format(suma2, t2-t1))\n",
        "\n",
        "  cantidad *= 10"
      ],
      "metadata": {
        "colab": {
          "base_uri": "https://localhost:8080/"
        },
        "id": "sE3ejMD2EBG4",
        "outputId": "8f17e64d-a95d-4921-c895-22d117d26122"
      },
      "execution_count": 5,
      "outputs": [
        {
          "output_type": "stream",
          "name": "stdout",
          "text": [
            "1  -  2.1457672119140625e-06\n",
            "500000500000.0  -  1.9073486328125e-06\n",
            "1  -  1.6689300537109375e-06\n",
            "50000005000000.0  -  1.1920928955078125e-06\n",
            "1  -  3.0994415283203125e-06\n",
            "5000000050000000.0  -  1.6689300537109375e-06\n",
            "1  -  3.337860107421875e-06\n",
            "5.000000005e+17  -  1.9073486328125e-06\n"
          ]
        }
      ]
    },
    {
      "cell_type": "markdown",
      "source": [
        "**NOTACIÓN ASINTOTICA**\n",
        "\n",
        "Reto 3\n",
        "\n",
        "O Grande"
      ],
      "metadata": {
        "id": "SCPzwYBPG-3a"
      }
    },
    {
      "cell_type": "code",
      "source": [
        "lista_datos = [14, 26, 39, 25, 11, 18, 42, 31, 17, 23]\n",
        "\n",
        "dato_buscado = 31\n",
        "\n",
        "def busqueda_lineal(lista, buscar): \n",
        "  for elemento in lista:\n",
        "    if elemento == buscar:\n",
        "      return True\n",
        "  return False    \n",
        "if busqueda_lineal(lista_datos, dato_buscado):\n",
        "  print(\"Dato Encontrado\")\n",
        "\n",
        "else:\n",
        "  print(\"Dato no encontrado\")\n",
        "  "
      ],
      "metadata": {
        "colab": {
          "base_uri": "https://localhost:8080/"
        },
        "id": "Jk3Xzi8UI_Ga",
        "outputId": "526a587b-80cf-42b2-d894-479940715a1d"
      },
      "execution_count": 6,
      "outputs": [
        {
          "output_type": "stream",
          "name": "stdout",
          "text": [
            "Dato Encontrado\n"
          ]
        }
      ]
    },
    {
      "cell_type": "markdown",
      "source": [
        "Reto 4\n",
        "\n",
        "Complejidad Cuadratica\n",
        "\n",
        "O(n^2)\n",
        "\n",
        "Comprobar si la suma de dos numero de una lista tiene un resultado dado"
      ],
      "metadata": {
        "id": "4MN2ouEVKtJr"
      }
    },
    {
      "cell_type": "code",
      "source": [
        "cantidades = [12, 23, 41, 36, 28, 54, 35, 46, 52, 19, 27]\n",
        "\n",
        "numero = 74\n",
        "\n",
        "def suma_dos(lista, valor): \n",
        "  pares = []\n",
        "\n",
        "  for i in lista:\n",
        "    for j in lista:\n",
        "      if i + j == valor:\n",
        "        pares.append([i, j])\n",
        "        return pares\n",
        "\n",
        "print(suma_dos(cantidades, numero))\n"
      ],
      "metadata": {
        "colab": {
          "base_uri": "https://localhost:8080/"
        },
        "id": "oWzBtRjtM9RU",
        "outputId": "9c610be3-198b-412f-ac93-1a1bbc17c8d2"
      },
      "execution_count": 7,
      "outputs": [
        {
          "output_type": "stream",
          "name": "stdout",
          "text": [
            "[[28, 46]]\n"
          ]
        }
      ]
    },
    {
      "cell_type": "markdown",
      "source": [
        "Reto 5\n",
        "\n",
        "Una empresa e autopistas tiene instalada una camara que cuenta el numero de vehiculos que pasa por una autopista, y tiene instaladas una gomas que cuentan el numero de ruedas de los vehiculos que pasan por la utopista.\n",
        "\n",
        "La empresa quiere contratar a un programador para que elabore un algoritmo que apartir del numero de vehiculos y el numero de rudas, extraiga la cantidad de coches y motos que pasan por la autopista.\n"
      ],
      "metadata": {
        "id": "Q2Cp4lGCO1dL"
      }
    },
    {
      "cell_type": "markdown",
      "source": [
        "Algoritmo o(n**2)"
      ],
      "metadata": {
        "id": "Fz8qzSyjSMUA"
      }
    },
    {
      "cell_type": "code",
      "source": [
        "def extraccion_1 (vehiculos, ruedas):\n",
        "  for coches in range(vehiculos+1):\n",
        "    for motos in range(vehiculos+1):\n",
        "      if ((coches+motos)== vehiculos) and ((coches*4 + motos*2)== ruedas):\n",
        "        return coches + motos\n",
        "  return None      \n"
      ],
      "metadata": {
        "id": "2sRR66TFQc_G"
      },
      "execution_count": 8,
      "outputs": []
    },
    {
      "cell_type": "markdown",
      "source": [
        "Algoritmo o(n)"
      ],
      "metadata": {
        "id": "4ukALIhTSSW5"
      }
    },
    {
      "cell_type": "code",
      "source": [
        "def extraccion_2(vehiculos, ruedas):\n",
        "  for coches in range(vehiculos+1):\n",
        "    motos = vehiculos - coches\n",
        "    if coches*4 + motos*2 == ruedas:\n",
        "      return coches, motos \n",
        "  return None    "
      ],
      "metadata": {
        "id": "rjkLUsIUSZDt"
      },
      "execution_count": 9,
      "outputs": []
    },
    {
      "cell_type": "markdown",
      "source": [
        "Algoritmo o(1)"
      ],
      "metadata": {
        "id": "spbGs6lkTmY5"
      }
    },
    {
      "cell_type": "code",
      "source": [
        "def extraccion_3(vehiculos, ruedas):\n",
        "  coches = ruedas / 2 - vehiculos\n",
        "  motos = vehiculos - coches\n",
        "\n",
        "  if int (coches) + int (motos) == vehiculos:\n",
        "    return int (coches) , int (motos)\n",
        "\n",
        "  else:\n",
        "    return None\n"
      ],
      "metadata": {
        "id": "lr8_MNmkTriR"
      },
      "execution_count": 10,
      "outputs": []
    },
    {
      "cell_type": "markdown",
      "source": [
        "Reto 6\n",
        "\n",
        "Algoritmos de Busqueda\n",
        "\n",
        "Busqueda Binaria"
      ],
      "metadata": {
        "id": "ubAvL1cqUi1W"
      }
    },
    {
      "cell_type": "code",
      "source": [
        "datos = [2, 3, 5, 6, 8, 11, 12, 15, 17, 18, 21, 23, 24, 29, 30]\n",
        "\n",
        "buscado = 23\n",
        "\n",
        "def busqueda_binaria(lista, elemento):\n",
        "  inicio = 0\n",
        "  final = len(lista) - 1\n",
        "\n",
        "  while inicio <= final:\n",
        "    medio = (inicio + final)//2\n",
        "    if lista[medio] == elemento:\n",
        "           return True\n",
        "    elif lista[medio] < elemento:\n",
        "        inicio = medio + 1\n",
        "\n",
        "    elif lista[medio] > elemento:\n",
        "        final = medio - 1\n",
        "  return False\n",
        "\n",
        "print(busqueda_binaria(datos, buscado))\n"
      ],
      "metadata": {
        "colab": {
          "base_uri": "https://localhost:8080/"
        },
        "id": "o479e0qsUlA9",
        "outputId": "4bfb5985-4b6c-441a-8e27-76f8a6bd2921"
      },
      "execution_count": 15,
      "outputs": [
        {
          "output_type": "stream",
          "name": "stdout",
          "text": [
            "True\n"
          ]
        }
      ]
    },
    {
      "cell_type": "markdown",
      "source": [
        "Reto 7\n",
        "\n",
        "Complejidad Logaritmica\n",
        "\n",
        "O log(n)"
      ],
      "metadata": {
        "id": "-cWuCGtnX8fL"
      }
    },
    {
      "cell_type": "code",
      "source": [
        "datos = []\n",
        "\n",
        "for i in range(15000):\n",
        "  datos.append(i) \n",
        "\n",
        "def busqueda_binaria(lista, elemento):\n",
        "  pasos = 0\n",
        "  inicio = 0\n",
        "  final = len(lista) - 1\n",
        "\n",
        "  while inicio <= final:\n",
        "    pasos += 1\n",
        "    medio = (inicio + final)//2\n",
        "    if lista[medio] == elemento:\n",
        "           return True, pasos\n",
        "    elif lista[medio] < elemento:\n",
        "        inicio = medio + 1\n",
        "\n",
        "    elif lista[medio] > elemento:\n",
        "        final = medio - 1\n",
        "  return False, pasos\n",
        "\n",
        "print(busqueda_binaria(datos, 12347))\n",
        "\n"
      ],
      "metadata": {
        "colab": {
          "base_uri": "https://localhost:8080/"
        },
        "id": "-9fBDUaTX-1w",
        "outputId": "dcb5f41e-4094-479d-eee9-181cd3f7a09d"
      },
      "execution_count": 23,
      "outputs": [
        {
          "output_type": "stream",
          "name": "stdout",
          "text": [
            "(True, 13)\n"
          ]
        }
      ]
    },
    {
      "cell_type": "code",
      "source": [
        "import math \n",
        "\n",
        "math.log(15000, 2)\n"
      ],
      "metadata": {
        "colab": {
          "base_uri": "https://localhost:8080/"
        },
        "id": "Nqs2-rzLZ54z",
        "outputId": "5957c69c-b50a-4cef-9fac-bc6f9e931c5a"
      },
      "execution_count": 21,
      "outputs": [
        {
          "output_type": "execute_result",
          "data": {
            "text/plain": [
              "13.872674880270607"
            ]
          },
          "metadata": {},
          "execution_count": 21
        }
      ]
    },
    {
      "cell_type": "markdown",
      "source": [
        "Reto 8\n",
        "\n",
        "BUSQUEDAS"
      ],
      "metadata": {
        "id": "YJqdvYvnbdzg"
      }
    },
    {
      "cell_type": "code",
      "source": [
        "import random\n",
        "\n",
        "censo = []\n",
        "\n",
        "alfabeto = \"ABCDEFGIJAEIOULMNOPRSTUAEIOU\" \n",
        "numero = 0 \n",
        "\n",
        "print(\"Creando censo.....\")\n",
        "\n",
        "for i in range(500_000):\n",
        "  aumento = random.randint(1,2)\n",
        "  numero += aumento\n",
        "\n",
        "  letras = random.sample(alfabeto, 5)\n",
        "  nombre = \"\".join(letras)\n",
        "\n",
        "  edad = random.randint(18, 99)\n",
        "\n",
        "  impuestos = random.choice((True, True, True, False))\n",
        "\n",
        "  censo.append([numero, nombre, edad, impuestos])\n",
        "\n",
        "  if len(censo) % 100_000 == 0:\n",
        "    print(\"Creados\", len(censo), \"registros\")\n",
        "\n",
        "print(\"Censo Creado. \")\n",
        "print(\"Ultimo registro: \", censo[-1])\n",
        "\n",
        "\n",
        "def busqueda_numero(lista, elemento):\n",
        "\n",
        "  '''Buca registros por numero....Busqueda Binari '''\n",
        "\n",
        "  inicio = 0\n",
        "  final = len(lista)-1\n",
        "\n",
        "  while inicio <= final:\n",
        "    medio = (inicio + final)//2\n",
        "    if lista[medio][0] == elemento:\n",
        "           return lista[medio]\n",
        "    elif lista[medio][0] < elemento:\n",
        "        inicio = medio + 1\n",
        "\n",
        "    elif lista[medio][0] > elemento:\n",
        "        final = medio - 1\n",
        "  return None\n",
        "\n",
        "\n",
        "def busqueda_nombre(lista, elemento):\n",
        "  '''Buca registros por nombre....Busqueda Lineal '''\n",
        "\n",
        "  encontrados = []\n",
        "  for registro in lista:\n",
        "    if registro [1] == elemento:\n",
        "      encontrados.append(registro)\n",
        "      if len(encontrados) == 0:\n",
        "        return None\n",
        "      else:\n",
        "        return encontrados\n",
        "\n",
        "\n",
        "def muestra_registro(registro):\n",
        "  if registro == None:\n",
        "    print(\"No existe registro con ese dato\")\n",
        "  else:\n",
        "    print(\"-------------------------------\")\n",
        "    print(\"Numero: \", registro[0])\n",
        "    print(\"Nombre: \", registro[1])\n",
        "    print(\"Edad: \", registro[2])\n",
        "    print(\"Impuestos: \", registro[3])\n",
        "\n",
        "\n",
        "def menu():\n",
        "\n",
        "   print(\"-------------------------------\")\n",
        "   print(\"- CENSO DE POBLACIÓN - \")\n",
        "   print(\"-------------------------------\")\n",
        "   print(\"1. Buscar por numero\")\n",
        "   print(\"2. Buscar por nombre\")\n",
        "   print(\"3. SALIR\")\n",
        "   opcion = \"\"\n",
        "   while opcion not in (\"1\", \"2\", \"3\"):\n",
        "     opcion = input(\"--->\")\n",
        "   return opcion\n",
        "\n",
        "while True:\n",
        "\n",
        "  op = menu()\n",
        "  if op == \"1\":\n",
        "    try:\n",
        "      numero = int (input(\"Introduce numero: \"))\n",
        "    except ValueError:\n",
        "      print(\"Introduce un numero entero\")\n",
        "    else:\n",
        "      registro = busqueda_numero(censo, numero)\n",
        "      muestra_registro(registro)\n",
        "\n",
        "  elif op == \"2\":\n",
        "    nombre = input(\"Introduce nombre: \").upper()\n",
        "    registros = busqueda_nombre(censo, nombre)\n",
        "    if registros == None:\n",
        "      print(\"No existe registro en este dato\") \n",
        "    else:\n",
        "      for registro in registros: \n",
        "        muestra_registro(registro)\n",
        "    \n",
        "  elif op == \"3\":\n",
        "    break\n",
        "\n"
      ],
      "metadata": {
        "colab": {
          "base_uri": "https://localhost:8080/"
        },
        "id": "mnjBv2pxblLc",
        "outputId": "1300d6d0-0f2d-4060-ede1-c74cc32facfa"
      },
      "execution_count": 2,
      "outputs": [
        {
          "name": "stdout",
          "output_type": "stream",
          "text": [
            "Creando censo.....\n",
            "Creados 100000 registros\n",
            "Creados 200000 registros\n",
            "Creados 300000 registros\n",
            "Creados 400000 registros\n",
            "Creados 500000 registros\n",
            "Censo Creado. \n",
            "Ultimo registro:  [749931, 'OOPDU', 96, True]\n",
            "-------------------------------\n",
            "- CENSO DE POBLACIÓN - \n",
            "-------------------------------\n",
            "1. Buscar por numero\n",
            "2. Buscar por nombre\n",
            "3. SALIR\n",
            "--->1\n",
            "Introduce numero: 749931\n",
            "-------------------------------\n",
            "Numero:  749931\n",
            "Nombre:  OOPDU\n",
            "Edad:  96\n",
            "Impuestos:  True\n",
            "-------------------------------\n",
            "- CENSO DE POBLACIÓN - \n",
            "-------------------------------\n",
            "1. Buscar por numero\n",
            "2. Buscar por nombre\n",
            "3. SALIR\n",
            "--->2\n",
            "Introduce nombre: MARIA\n",
            "No existe registro en este dato\n",
            "-------------------------------\n",
            "- CENSO DE POBLACIÓN - \n",
            "-------------------------------\n",
            "1. Buscar por numero\n",
            "2. Buscar por nombre\n",
            "3. SALIR\n",
            "--->maria\n",
            "--->2\n",
            "Introduce nombre: Mario\n",
            "-------------------------------\n",
            "Numero:  319212\n",
            "Nombre:  MARIO\n",
            "Edad:  46\n",
            "Impuestos:  True\n",
            "-------------------------------\n",
            "- CENSO DE POBLACIÓN - \n",
            "-------------------------------\n",
            "1. Buscar por numero\n",
            "2. Buscar por nombre\n",
            "3. SALIR\n",
            "--->3\n"
          ]
        }
      ]
    }
  ]
}